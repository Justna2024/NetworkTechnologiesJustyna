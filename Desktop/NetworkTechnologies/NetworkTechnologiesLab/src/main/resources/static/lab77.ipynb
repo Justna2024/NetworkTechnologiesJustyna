{
 "cells": [
  {
   "cell_type": "code",
   "execution_count": 6,
   "metadata": {},
   "outputs": [
    {
     "ename": "ModuleNotFoundError",
     "evalue": "No module named 'pandas'",
     "output_type": "error",
     "traceback": [
      "\u001b[1;31m---------------------------------------------------------------------------\u001b[0m",
      "\u001b[1;31mModuleNotFoundError\u001b[0m                       Traceback (most recent call last)",
      "\u001b[1;32mc:\\Users\\Justy\\Desktop\\NetworkTechnologies\\NetworkTechnologiesLab\\src\\main\\resources\\static\\lab77.ipynb Cell 1\u001b[0m line \u001b[0;36m1\n\u001b[1;32m----> <a href='vscode-notebook-cell:/c%3A/Users/Justy/Desktop/NetworkTechnologies/NetworkTechnologiesLab/src/main/resources/static/lab77.ipynb#W0sZmlsZQ%3D%3D?line=0'>1</a>\u001b[0m \u001b[39mimport\u001b[39;00m \u001b[39mpandas\u001b[39;00m \u001b[39mas\u001b[39;00m \u001b[39mpd\u001b[39;00m\n\u001b[0;32m      <a href='vscode-notebook-cell:/c%3A/Users/Justy/Desktop/NetworkTechnologies/NetworkTechnologiesLab/src/main/resources/static/lab77.ipynb#W0sZmlsZQ%3D%3D?line=1'>2</a>\u001b[0m \u001b[39mimport\u001b[39;00m \u001b[39mmatplotlib\u001b[39;00m\u001b[39m.\u001b[39;00m\u001b[39mpyplot\u001b[39;00m \u001b[39mas\u001b[39;00m \u001b[39mplt\u001b[39;00m\n\u001b[0;32m      <a href='vscode-notebook-cell:/c%3A/Users/Justy/Desktop/NetworkTechnologies/NetworkTechnologiesLab/src/main/resources/static/lab77.ipynb#W0sZmlsZQ%3D%3D?line=2'>3</a>\u001b[0m \u001b[39mfrom\u001b[39;00m \u001b[39mstatsmodels\u001b[39;00m\u001b[39m.\u001b[39;00m\u001b[39mtsa\u001b[39;00m\u001b[39m.\u001b[39;00m\u001b[39mstatespace\u001b[39;00m\u001b[39m.\u001b[39;00m\u001b[39msarimax\u001b[39;00m \u001b[39mimport\u001b[39;00m SARIMAX\n",
      "\u001b[1;31mModuleNotFoundError\u001b[0m: No module named 'pandas'"
     ]
    }
   ],
   "source": [
    "import pandas as pd\n",
    "import matplotlib.pyplot as plt\n",
    "from statsmodels.tsa.statespace.sarimax import SARIMAX\n",
    "import numpy as np\n",
    "from pmdarima import auto_arima\n",
    "\n",
    "df3 = 'C:\\\\Users\\\\Justy\\\\Desktop\\\\TimeSeriesAnalysis\\\\files\\\\Retail_sales_of_electricity_United_States_monthly.csv'\n",
    "data = pd.read_csv(df3,header=3,skiprows=2, names=['Date', 'All Sectors', 'Residential', 'Commercial','Industrial'])\n",
    "#print(data) - works \n",
    "\n",
    "data['Log All Sectors']=np.log(data['All Sectors'])\n",
    "\n",
    "data.dropna(inplace=True)\n",
    "auto_arima(data['Log All Sectors'],seasonal=True,m=12,trace=True).summary()"
   ]
  },
  {
   "cell_type": "code",
   "execution_count": null,
   "metadata": {},
   "outputs": [
    {
     "ename": "",
     "evalue": "",
     "output_type": "error",
     "traceback": [
      "\u001b[1;31mRunning cells with 'c:\\Users\\Justy\\AppData\\Local\\Programs\\Python\\Python312\\python.exe' requires the ipykernel package.\n",
      "\u001b[1;31mRun the following command to install 'ipykernel' into the Python environment. \n",
      "\u001b[1;31mCommand: 'c:/Users/Justy/AppData/Local/Programs/Python/Python312/python.exe -m pip install ipykernel -U --user --force-reinstall'"
     ]
    }
   ],
   "source": [
    "train=data['Log All Sectors'].iloc[:-12]\n",
    "test=data['Log All Sectors'].iloc[-12:]\n",
    "\n",
    "\n",
    "model=SARIMAX(data['Log All Sectors'],order=(0,1,3),seasonal_order=(2,0,2,12))\n",
    "res=model.fit()\n",
    "\n",
    "start=len(train)\n",
    "end=start+len(test)-1\n",
    "predicted=res.predict(start,end) # predicted test data \n",
    "\n",
    "ax=test.plot(legend=True) # plottoing actual test data \n",
    "predicted.plot(legend=True)\n",
    "\n",
    "# Plotting test data\n",
    "ax = test.plot(legend=True)\n",
    "\n",
    "# Plotting predicted values\n",
    "predicted.plot(ax=ax, legend=True)\n",
    "plt.xlabel('Date')\n",
    "plt.ylabel('Log All Sectors')\n",
    "plt.title('Test Data vs. Predicted Values')\n",
    "plt.show()"
   ]
  }
 ],
 "metadata": {
  "kernelspec": {
   "display_name": "Python 3",
   "language": "python",
   "name": "python3"
  },
  "language_info": {
   "codemirror_mode": {
    "name": "ipython",
    "version": 3
   },
   "file_extension": ".py",
   "mimetype": "text/x-python",
   "name": "python",
   "nbconvert_exporter": "python",
   "pygments_lexer": "ipython3",
   "version": "3.12.0"
  }
 },
 "nbformat": 4,
 "nbformat_minor": 2
}
